{
 "cells": [
  {
   "cell_type": "code",
   "execution_count": 2,
   "metadata": {},
   "outputs": [
    {
     "data": {
      "text/plain": [
       "Affine cryptosystem on Free alphabetic string monoid on A-Z"
      ]
     },
     "execution_count": 2,
     "metadata": {},
     "output_type": "execute_result"
    }
   ],
   "source": [
    "A = AffineCryptosystem(AlphabeticStrings()); A"
   ]
  },
  {
   "cell_type": "code",
   "execution_count": 3,
   "metadata": {},
   "outputs": [],
   "source": [
    "str1 = \"FMXVEDKAPHFERBNDKRXRSREFMORUDSDKDVSHVUFEDKAPRKDLYEVLRHHRH\""
   ]
  },
  {
   "cell_type": "code",
   "execution_count": 4,
   "metadata": {},
   "outputs": [
    {
     "data": {
      "text/plain": [
       "FMXVEDKAPHFERBNDKRXRSREFMORUDSDKDVSHVUFEDKAPRKDLYEVLRHHRH"
      ]
     },
     "execution_count": 4,
     "metadata": {},
     "output_type": "execute_result"
    }
   ],
   "source": [
    "p = A.encoding(str1); p"
   ]
  },
  {
   "cell_type": "code",
   "execution_count": 16,
   "metadata": {},
   "outputs": [],
   "source": [
    "a,b=(3,5)"
   ]
  },
  {
   "cell_type": "code",
   "execution_count": 17,
   "metadata": {},
   "outputs": [
    {
     "data": {
      "text/plain": [
       "ALGORITHMSAREQUITEGENERALDEFINITIONSOFARITHMETICPROCESSES"
      ]
     },
     "execution_count": 17,
     "metadata": {},
     "output_type": "execute_result"
    }
   ],
   "source": [
    "A.deciphering(a,b,p)"
   ]
  },
  {
   "cell_type": "code",
   "execution_count": null,
   "metadata": {},
   "outputs": [],
   "source": [
    "#统计分析"
   ]
  },
  {
   "cell_type": "code",
   "execution_count": 25,
   "metadata": {},
   "outputs": [
    {
     "data": {
      "text/plain": [
       "57"
      ]
     },
     "execution_count": 25,
     "metadata": {},
     "output_type": "execute_result"
    }
   ],
   "source": [
    "len(str1)"
   ]
  },
  {
   "cell_type": "code",
   "execution_count": 20,
   "metadata": {},
   "outputs": [
    {
     "data": {
      "text/plain": [
       "{'F': 4,\n",
       " 'M': 2,\n",
       " 'X': 2,\n",
       " 'V': 4,\n",
       " 'E': 5,\n",
       " 'D': 7,\n",
       " 'K': 5,\n",
       " 'A': 2,\n",
       " 'P': 2,\n",
       " 'H': 5,\n",
       " 'R': 8,\n",
       " 'B': 1,\n",
       " 'N': 1,\n",
       " 'S': 3,\n",
       " 'O': 1,\n",
       " 'U': 2,\n",
       " 'L': 2,\n",
       " 'Y': 1}"
      ]
     },
     "execution_count": 20,
     "metadata": {},
     "output_type": "execute_result"
    }
   ],
   "source": [
    "frequency = {letter:str1.count(letter) for letter in str1}; frequency"
   ]
  },
  {
   "cell_type": "code",
   "execution_count": 26,
   "metadata": {},
   "outputs": [],
   "source": [
    "m = \"ALGORITHMSAREQUITEGENERALDEFINITIONSOFARITHMETICPROCESSES\""
   ]
  },
  {
   "cell_type": "code",
   "execution_count": 28,
   "metadata": {},
   "outputs": [
    {
     "data": {
      "text/plain": [
       "{'A': 4,\n",
       " 'L': 2,\n",
       " 'G': 2,\n",
       " 'O': 4,\n",
       " 'R': 5,\n",
       " 'I': 7,\n",
       " 'T': 5,\n",
       " 'H': 2,\n",
       " 'M': 2,\n",
       " 'S': 5,\n",
       " 'E': 8,\n",
       " 'Q': 1,\n",
       " 'U': 1,\n",
       " 'N': 3,\n",
       " 'D': 1,\n",
       " 'F': 2,\n",
       " 'C': 2,\n",
       " 'P': 1}"
      ]
     },
     "execution_count": 28,
     "metadata": {},
     "output_type": "execute_result"
    }
   ],
   "source": [
    "frequency = {letter:m.count(letter) for letter in m}; frequency"
   ]
  }
 ],
 "metadata": {
  "kernelspec": {
   "display_name": "SageMath 9.2",
   "language": "sage",
   "name": "sagemath"
  },
  "language_info": {
   "codemirror_mode": {
    "name": "ipython",
    "version": 3
   },
   "file_extension": ".py",
   "mimetype": "text/x-python",
   "name": "python",
   "nbconvert_exporter": "python",
   "pygments_lexer": "ipython3",
   "version": "3.7.7"
  }
 },
 "nbformat": 4,
 "nbformat_minor": 4
}
