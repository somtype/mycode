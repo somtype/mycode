{
 "cells": [
  {
   "cell_type": "code",
   "execution_count": 3,
   "metadata": {},
   "outputs": [
    {
     "name": "stdout",
     "output_type": "stream",
     "text": [
      "123\n",
      "\n",
      "456\n",
      "\n",
      "\n",
      "\n",
      "\n"
     ]
    }
   ],
   "source": [
    "with open('t.txt', 'r') as f:\n",
    "    print(f.readline())\n",
    "    print(f.readline())\n",
    "    print(f.readline())\n",
    "    print(f.readline())\n",
    "    print(f.readline())"
   ]
  },
  {
   "cell_type": "code",
   "execution_count": 1,
   "metadata": {},
   "outputs": [
    {
     "name": "stdout",
     "output_type": "stream",
     "text": [
      "1 0\n",
      "2 0\n",
      "1 3\n",
      "2 0\n"
     ]
    }
   ],
   "source": [
    "class MyClass:\n",
    "    g = 0\n",
    "    def __init__(self, k) -> None:\n",
    "        self.k = k\n",
    "\n",
    "a = MyClass(1)\n",
    "b = MyClass(2)\n",
    "print(a.k, a.g)\n",
    "print(b.k, b.g)\n",
    "a.g = 3\n",
    "print(a.k, a.g)\n",
    "print(b.k, b.g)"
   ]
  },
  {
   "cell_type": "code",
   "execution_count": 4,
   "metadata": {},
   "outputs": [
    {
     "name": "stdout",
     "output_type": "stream",
     "text": [
      "<class 'type'>\n",
      "<class '__main__.MyClass'>\n",
      "<class 'type'>\n"
     ]
    }
   ],
   "source": [
    "print(MyClass.__class__)\n",
    "print(a.__class__)\n",
    "print(type.__class__)"
   ]
  }
 ],
 "metadata": {
  "interpreter": {
   "hash": "4f02575854a3e0b226e1e0f045f8dc205c075e4854f3068ccec7affb71035eb2"
  },
  "kernelspec": {
   "display_name": "Python 3.9.7 64-bit ('ipynb': conda)",
   "language": "python",
   "name": "python3"
  },
  "language_info": {
   "codemirror_mode": {
    "name": "ipython",
    "version": 3
   },
   "file_extension": ".py",
   "mimetype": "text/x-python",
   "name": "python",
   "nbconvert_exporter": "python",
   "pygments_lexer": "ipython3",
   "version": "3.9.7"
  },
  "orig_nbformat": 4
 },
 "nbformat": 4,
 "nbformat_minor": 2
}
