{
 "cells": [
  {
   "cell_type": "code",
   "execution_count": 21,
   "metadata": {},
   "outputs": [
    {
     "name": "stdout",
     "output_type": "stream",
     "text": [
      "0x9d80\n"
     ]
    }
   ],
   "source": [
    "f8=factorial(8)\n",
    "print(hex(f8))"
   ]
  },
  {
   "cell_type": "code",
   "execution_count": 22,
   "metadata": {},
   "outputs": [
    {
     "name": "stdout",
     "output_type": "stream",
     "text": [
      "0x13b0\n"
     ]
    }
   ],
   "source": [
    "f7=factorial(7)\n",
    "print(hex(f7))"
   ]
  },
  {
   "cell_type": "code",
   "execution_count": 20,
   "metadata": {},
   "outputs": [
    {
     "name": "stdout",
     "output_type": "stream",
     "text": [
      "0xb130\n"
     ]
    }
   ],
   "source": [
    "a=f8+f7\n",
    "print(hex(a))"
   ]
  },
  {
   "cell_type": "code",
   "execution_count": 28,
   "metadata": {},
   "outputs": [
    {
     "name": "stdout",
     "output_type": "stream",
     "text": [
      "1\n",
      "1\n",
      "0x1\n",
      "2\n",
      "3\n",
      "0x3\n",
      "6\n",
      "9\n",
      "0x9\n",
      "24\n",
      "33\n",
      "0x21\n",
      "120\n",
      "153\n",
      "0x99\n",
      "720\n",
      "873\n",
      "0x369\n",
      "5040\n",
      "5913\n",
      "0x1719\n",
      "40320\n",
      "46233\n",
      "0xb499\n"
     ]
    }
   ],
   "source": [
    "result = 0\n",
    "for k in range(8):\n",
    "    temp = factorial(k+1)\n",
    "    result += temp\n",
    "    print(temp)\n",
    "    print(result)\n",
    "    print(hex(result))"
   ]
  },
  {
   "cell_type": "code",
   "execution_count": null,
   "metadata": {},
   "outputs": [],
   "source": [
    "for i in range(100):\n",
    "    "
   ]
  }
 ],
 "metadata": {
  "kernelspec": {
   "display_name": "SageMath 9.2",
   "language": "sage",
   "name": "sagemath"
  },
  "language_info": {
   "codemirror_mode": {
    "name": "ipython",
    "version": 3
   },
   "file_extension": ".py",
   "mimetype": "text/x-python",
   "name": "python",
   "nbconvert_exporter": "python",
   "pygments_lexer": "ipython3",
   "version": "3.7.7"
  }
 },
 "nbformat": 4,
 "nbformat_minor": 4
}
