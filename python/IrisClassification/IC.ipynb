{
 "cells": [
  {
   "cell_type": "markdown",
   "metadata": {
    "collapsed": false
   },
   "source": [
    "# **任务描述：**\n",
    "\n",
    "构建一个模型，根据鸢尾花的花萼和花瓣大小将其分为三种不同的品种。\n",
    "\n",
    "![](https://ai-studio-static-online.cdn.bcebos.com/dd74666475b549fcae99ac2aff67488f015cdd76569d4d208909983bcf40fe3c)"
   ]
  },
  {
   "cell_type": "markdown",
   "metadata": {
    "collapsed": false
   },
   "source": [
    "\n",
    "# **数据集**\n",
    "总共包含150行数据\n",
    "\n",
    "每一行数据由 4 个特征值及一个目标值组成。\n",
    "\n",
    "4 个特征值分别为：萼片长度、萼片宽度、花瓣长度、花瓣宽度\n",
    "\n",
    "目标值为三种不同类别的鸢尾花，分别为：\tIris Setosa、Iris Versicolour、Iris Virginica\n",
    "\n",
    "![](https://ai-studio-static-online.cdn.bcebos.com/8bdc417331ef45d5a380d2769f3a8bcd7b361212b20d4e78b2a32ee9c7a7b1fa)"
   ]
  },
  {
   "cell_type": "markdown",
   "metadata": {
    "collapsed": false
   },
   "source": [
    "\n",
    "**首先导入必要的包：**\n",
    "\n",
    "**numpy**：python第三方库，用于科学计算\n",
    "\n",
    "**matplotlib**:python第三方库，主要用于进行可视化\n",
    "\n",
    "**sklearn**:python的重要机器学习库，其中封装了大量的机器学习算法，如：分类、回归、降维以及聚类"
   ]
  },
  {
   "cell_type": "code",
   "execution_count": 27,
   "metadata": {
    "collapsed": false
   },
   "outputs": [],
   "source": [
    "import numpy as np                \n",
    "from matplotlib import colors     \n",
    "from sklearn import svm            \n",
    "from sklearn.svm import SVC\n",
    "from sklearn import model_selection\n",
    "import matplotlib.pyplot as plt\n",
    "import matplotlib as mpl"
   ]
  },
  {
   "cell_type": "code",
   "execution_count": 28,
   "metadata": {
    "collapsed": false
   },
   "outputs": [],
   "source": [
    "#若提示缺少matplotlib，则可使用以下命令pip安装matplotlib\n",
    "#!pip install matplotlib"
   ]
  },
  {
   "cell_type": "markdown",
   "metadata": {
    "collapsed": false
   },
   "source": [
    "# **Step1.数据准备**\n",
    "\n",
    "(1)从指定路径下加载数据\n",
    "\n",
    "(2)对加载的数据进行数据分割，x_train,x_test,y_train,y_test分别表示训练集特征、训练集标签、测试集特征、测试集标签"
   ]
  },
  {
   "cell_type": "code",
   "execution_count": 29,
   "metadata": {
    "collapsed": false
   },
   "outputs": [],
   "source": [
    "#*************将字符串转为整型，便于数据加载***********************\n",
    "def iris_type(s):\n",
    "    it = {b'Iris-setosa':0, b'Iris-versicolor':1, b'Iris-virginica':2}\n",
    "    return it[s]"
   ]
  },
  {
   "cell_type": "code",
   "execution_count": 30,
   "metadata": {
    "collapsed": false
   },
   "outputs": [],
   "source": [
    "#加载数据\n",
    "data_path='data/data5420/iris.data'          #数据文件的路径\n",
    "data = np.loadtxt(data_path,                                #数据文件路径\n",
    "                  dtype=float,                              #数据类型\n",
    "                  delimiter=',',                            #数据分隔符\n",
    "                  converters={4:iris_type})                 #将第5列使用函数iris_type进行转换\n",
    "#print(data)                                                 #data为二维数组，data.shape=(150, 5)\n",
    "#print(data.shape)\n",
    "#数据分割\n",
    "x, y = np.split(data,                                       #要切分的数组\n",
    "                (4,),                                       #沿轴切分的位置，第5列开始往后为y\n",
    "                axis=1)                                     #代表纵向分割，按列分割\n",
    "# x = x[:, 0:2]                                               #在X中我们取前两列作为特征，为了后面的可视化。x[:,0:4]代表第一维(行)全取，第二维(列)取0~2\n",
    "#print(x)\n",
    "x_train,x_test,y_train,y_test=model_selection.train_test_split(x,              #所要划分的样本特征集\n",
    "                                                               y,              #所要划分的样本结果\n",
    "                                                               random_state=1, #随机数种子\n",
    "                                                               test_size=0.3)  #测试样本占比"
   ]
  },
  {
   "cell_type": "markdown",
   "metadata": {
    "collapsed": false
   },
   "source": [
    "# **Step2.模型搭建**\n",
    "\n",
    "C越大，相当于惩罚松弛变量，希望松弛变量接近0，即对误分类的惩罚增大，趋向于对训练集全分对的情况，这样对训练集测试时准确率很高，但泛化能力弱。\n",
    "C值小，对误分类的惩罚减小，允许容错，将他们当成噪声点，泛化能力较强。\n",
    "\n",
    "kernel='linear'时，为线性核\n",
    "\n",
    "decision_function_shape='ovr'时，为one v rest，即一个类别与其他类别进行划分，\n",
    "\n",
    "decision_function_shape='ovo'时，为one v one，即将类别两两之间进行划分，用二分类的方法模拟多分类的结果。"
   ]
  },
  {
   "cell_type": "code",
   "execution_count": 31,
   "metadata": {
    "collapsed": false
   },
   "outputs": [],
   "source": [
    "#**********************SVM分类器构建*************************\n",
    "def classifier():\n",
    "    #clf = svm.SVC(C=0.8,kernel='rbf', gamma=50,decision_function_shape='ovr')\n",
    "    clf = svm.SVC(C=0.5,                         #误差项惩罚系数,默认值是1\n",
    "                  kernel='linear',               #线性核 kenrel=\"rbf\":高斯核\n",
    "                  decision_function_shape='ovr') #决策函数\n",
    "    \n",
    "    return clf"
   ]
  },
  {
   "cell_type": "code",
   "execution_count": 32,
   "metadata": {
    "collapsed": false
   },
   "outputs": [],
   "source": [
    "# 2.定义模型：SVM模型定义\n",
    "clf = classifier()"
   ]
  },
  {
   "cell_type": "markdown",
   "metadata": {
    "collapsed": false
   },
   "source": [
    "# **Step3.模型训练**"
   ]
  },
  {
   "cell_type": "code",
   "execution_count": 33,
   "metadata": {
    "collapsed": false
   },
   "outputs": [],
   "source": [
    "#***********************训练模型*****************************\n",
    "def train(clf,x_train,y_train):\n",
    "    clf.fit(x_train,         #训练集特征向量\n",
    "            y_train.ravel()) #训练集目标值"
   ]
  },
  {
   "cell_type": "code",
   "execution_count": 34,
   "metadata": {
    "collapsed": false
   },
   "outputs": [],
   "source": [
    "# 3.训练SVM模型\n",
    "train(clf,x_train,y_train)"
   ]
  },
  {
   "cell_type": "markdown",
   "metadata": {
    "collapsed": false
   },
   "source": [
    "# **Step4.模型评估**"
   ]
  },
  {
   "cell_type": "code",
   "execution_count": 35,
   "metadata": {
    "collapsed": false
   },
   "outputs": [],
   "source": [
    "#**************并判断a b是否相等，计算acc的均值*************\n",
    "def show_accuracy(a, b, tip):\n",
    "    acc = a.ravel() == b.ravel()\n",
    "    print('%s Accuracy:%.3f' %(tip, np.mean(acc)))"
   ]
  },
  {
   "cell_type": "code",
   "execution_count": 36,
   "metadata": {
    "collapsed": false
   },
   "outputs": [],
   "source": [
    "def print_accuracy(clf,x_train,y_train,x_test,y_test):\n",
    "    #分别打印训练集和测试集的准确率  score(x_train,y_train):表示输出x_train,y_train在模型上的准确率\n",
    "    print('training prediction:%.3f' %(clf.score(x_train, y_train)))\n",
    "    print('test data prediction:%.3f' %(clf.score(x_test, y_test)))\n",
    "    #原始结果与预测结果进行对比   predict()表示对x_train样本进行预测，返回样本类别\n",
    "    show_accuracy(clf.predict(x_train), y_train, 'traing data')\n",
    "    show_accuracy(clf.predict(x_test), y_test, 'testing data')\n",
    "    #计算决策函数的值，表示x到各分割平面的距离\n",
    "    print('decision_function:\\n', clf.decision_function(x_train))"
   ]
  },
  {
   "cell_type": "code",
   "execution_count": 37,
   "metadata": {
    "collapsed": false
   },
   "outputs": [
    {
     "output_type": "stream",
     "name": "stdout",
     "text": [
      "training prediction:0.981\ntest data prediction:0.978\ntraing data Accuracy:0.981\ntesting data Accuracy:0.978\ndecision_function:\n [[-0.29178027  1.18094245  2.28456127]\n [ 2.23581436  1.28035578 -0.29506363]\n [ 2.24589068  1.28003879 -0.29656824]\n [ 2.23473612  1.28034778 -0.29489448]\n [-0.22416317  2.24311847  0.86972735]\n [ 2.23926986  1.28068845 -0.2957765 ]\n [ 2.24711626  1.28356508 -0.29848012]\n [-0.28523111  1.15864608  2.27797628]\n [-0.27214653  1.21364386  2.24232861]\n [-0.28315039  1.21201283  2.26523413]\n [-0.27738243  1.1910914   2.26109224]\n [-0.26027504  1.2297402   2.19117785]\n [-0.24142944  2.23074984  1.09136516]\n [-0.2883847   1.20253656  2.27652216]\n [-0.22827889  2.24690428  0.86463511]\n [ 2.23581448  1.27834615 -0.29402591]\n [-0.26848252  1.20880966  2.23708142]\n [-0.26343364  1.23079215  2.20095377]\n [ 2.23852907  1.28196912 -0.29631941]\n [ 2.24364811  1.28053333 -0.29641866]\n [-0.27883819  1.17958994  2.26597474]\n [ 2.24172218  1.27763906 -0.29467982]\n [-0.26044289  1.22181079  2.20434142]\n [-0.26504591  1.21466521  2.22483959]\n [-0.23999014  2.25220561  0.88344119]\n [-0.24522239  2.24121112  1.04714338]\n [-0.2778058   1.16175978  2.26746013]\n [-0.25807259  1.22222576  2.19609988]\n [ 2.24208096  1.27850191 -0.29516006]\n [-0.2313928   2.26321998  0.8008412 ]\n [-0.23739496  2.25355554  0.86230556]\n [-0.2719234   1.21397355  2.24164051]\n [-0.1808269   2.2607791   0.76445954]\n [-0.28127276  1.10452906  2.27727275]\n [-0.23118585  2.25001313  0.85852701]\n [ 2.24363821  1.28119399 -0.29674117]\n [ 2.23626858  1.28152738 -0.2957467 ]\n [ 2.25086042  1.27945212 -0.29721209]\n [-0.27518546  1.19088083  2.25744727]\n [ 2.2409015   1.27963541 -0.29551396]\n [-0.26528467  1.22593784  2.21405836]\n [-0.27158925  1.21889868  2.23770609]\n [-0.2645007   1.2102438   2.22699363]\n [ 2.2407725   1.28085805 -0.29610366]\n [ 2.22221676  1.27708815 -0.29127917]\n [-0.22543534  2.25632019  0.81554746]\n [ 2.23626858  1.28152738 -0.2957467 ]\n [-0.28203495  1.21873323  2.26070006]\n [-0.23713938  2.25100843  0.87713413]\n [-0.28713448  1.19280554  2.27628674]\n [-0.27111116  1.20768489  2.24334642]\n [-0.24962572  2.2558657   0.91904705]\n [-0.27119428  1.1667852   2.25693136]\n [-0.28122816  1.15121044  2.27345723]\n [-0.19792273  2.25381259  0.78876099]\n [ 2.25004577  1.27850197 -0.29662845]\n [-0.22017686  2.25547513  0.80939045]\n [ 2.22577194  1.28190985 -0.2944884 ]\n [-0.2188377   2.25748931  0.8008769 ]\n [-0.25661623  2.24467445  1.12306015]\n [ 2.23151028  1.27771023 -0.29300929]\n [-0.25616829  2.25005623  1.08024132]\n [ 2.22918421  1.27536193 -0.29140725]\n [ 2.22221885  1.27620305 -0.29078662]\n [-0.27501117  1.14969574  2.26530905]\n [-0.26402666  1.2028963   2.23089627]\n [-0.27968542  1.17449654  2.26816249]\n [ 2.24139425  1.28114455 -0.29634831]\n [ 2.24060891  1.27778364 -0.29455342]\n [-0.25581651  1.21625563  2.19744697]\n [ 2.23472427  1.27905393 -0.29421621]\n [-0.2678726   1.20879945  2.23573798]\n [ 2.23018874  1.27952249 -0.2937744 ]\n [-0.26854587  1.21519285  2.23303832]\n [-0.25402741  1.21582349  2.19247782]\n [ 2.24027305  1.27933204 -0.29525811]\n [-0.27112596  1.18808026  2.25130379]\n [ 2.24910142  1.28119965 -0.29768708]\n [-0.225687    2.24488319  0.86602379]\n [ 2.23542962  1.27936041 -0.2944862 ]\n [-0.21007189  2.26039508  0.78298104]\n [-0.20759252  2.26047649  0.78065692]\n [ 2.244332    1.28095011 -0.29673797]\n [ 2.23654023  1.28169338 -0.29587477]\n [-0.17602197  2.25901905  0.76568105]\n [ 2.25737083  1.28041659 -0.29892414]\n [-0.2348619   2.24295336  0.92247553]\n [-0.25175155  2.24027199  1.11170397]\n [ 2.23939222  1.28014548 -0.29552079]\n [-0.25116907  2.24519783  1.07186647]\n [-0.23240677  2.24565121  0.88905499]\n [-0.25607113  2.2501669   1.07815683]\n [-0.24875217  2.2506426   0.97244996]\n [-0.2678726   1.20879945  2.23573798]\n [ 2.23080194  1.2810379  -0.29468635]\n [ 2.22785923  1.28098816 -0.29424787]\n [-0.27302348  1.22340138  2.23795446]\n [-0.22596288  2.25501134  0.82160318]\n [-0.27529458  1.22969511  2.23882357]\n [-0.18905813  2.26334364  0.76322327]\n [-0.2636352   1.23391458  2.1961426 ]\n [-0.2711587   1.20913441  2.24268901]\n [-0.26226225  2.24168125  1.17098493]\n [-0.27702965  1.1822466   2.26262255]\n [ 2.23626858  1.28152738 -0.2957467 ]]\n"
     ]
    }
   ],
   "source": [
    "# 4.模型评估\n",
    "print_accuracy(clf,x_train,y_train,x_test,y_test)"
   ]
  },
  {
   "cell_type": "markdown",
   "metadata": {
    "collapsed": false
   },
   "source": [
    "# **Step5.模型使用**"
   ]
  },
  {
   "cell_type": "code",
   "execution_count": 38,
   "metadata": {
    "collapsed": false
   },
   "outputs": [],
   "source": [
    "def draw(clf, x):\n",
    "    iris_feature = 'sepal length', 'sepal width', 'petal lenght', 'petal width'\n",
    "    # 开始画图\n",
    "    x1_min, x1_max = x[:, 0].min(), x[:, 0].max()               #第0列的范围\n",
    "    x2_min, x2_max = x[:, 1].min(), x[:, 1].max()               #第1列的范围\n",
    "    x1, x2 = np.mgrid[x1_min:x1_max:200j, x2_min:x2_max:200j]   #生成网格采样点\n",
    "    grid_test = np.stack((x1.flat, x2.flat), axis=1)            #stack():沿着新的轴加入一系列数组\n",
    "    print('grid_test:\\n', grid_test)\n",
    "    # 输出样本到决策面的距离\n",
    "    z = clf.decision_function(grid_test)\n",
    "    print('the distance to decision plane:\\n', z)\n",
    "    \n",
    "    grid_hat = clf.predict(grid_test)                           # 预测分类值 得到【0,0.。。。2,2,2】\n",
    "    print('grid_hat:\\n', grid_hat)  \n",
    "    grid_hat = grid_hat.reshape(x1.shape)                       # reshape grid_hat和x1形状一致\n",
    "                                                                #若3*3矩阵e，则e.shape()为3*3,表示3行3列   \n",
    " \n",
    "    cm_light = mpl.colors.ListedColormap(['#A0FFA0', '#FFA0A0', '#A0A0FF'])\n",
    "    cm_dark = mpl.colors.ListedColormap(['g', 'b', 'r'])\n",
    " \n",
    "    plt.pcolormesh(x1, x2, grid_hat, cmap=cm_light)                                   # pcolormesh(x,y,z,cmap)这里参数代入\n",
    "                                                                                      # x1，x2，grid_hat，cmap=cm_light绘制的是背景。\n",
    "    plt.scatter(x[:, 0], x[:, 1], c=np.squeeze(y), edgecolor='k', s=50, cmap=cm_dark) # 样本点\n",
    "    plt.scatter(x_test[:, 0], x_test[:, 1], s=120, facecolor='none', zorder=10)       # 测试点\n",
    "    plt.xlabel(iris_feature[0], fontsize=20)\n",
    "    plt.ylabel(iris_feature[1], fontsize=20)\n",
    "    plt.xlim(x1_min, x1_max)\n",
    "    plt.ylim(x2_min, x2_max)\n",
    "    plt.title('svm in iris data classification', fontsize=30)\n",
    "    plt.grid()\n",
    "    plt.show()"
   ]
  },
  {
   "cell_type": "code",
   "execution_count": 39,
   "metadata": {
    "collapsed": false
   },
   "outputs": [],
   "source": [
    "# 5.模型使用\n",
    "# draw(clf,x)"
   ]
  },
  {
   "cell_type": "code",
   "execution_count": null,
   "metadata": {
    "collapsed": false
   },
   "outputs": [],
   "source": []
  }
 ],
 "metadata": {
  "kernelspec": {
   "name": "python3",
   "display_name": "Python 3.8.5 64-bit",
   "metadata": {
    "interpreter": {
     "hash": "31f2aee4e71d21fbe5cf8b01ff0e069b9275f58929596ceb00d14d90e3e16cd6"
    }
   }
  },
  "language_info": {
   "codemirror_mode": {
    "name": "ipython",
    "version": 3
   },
   "file_extension": ".py",
   "mimetype": "text/x-python",
   "name": "python",
   "nbconvert_exporter": "python",
   "pygments_lexer": "ipython3",
   "version": "3.8.5-final"
  }
 },
 "nbformat": 4,
 "nbformat_minor": 1
}