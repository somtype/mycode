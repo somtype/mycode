{
 "cells": [
  {
   "cell_type": "code",
   "execution_count": 1,
   "metadata": {},
   "outputs": [
    {
     "data": {
      "text/html": [
       "<html><script type=\"math/tex; mode=display\">\\newcommand{\\Bold}[1]{\\mathbf{#1}}\\sqrt{x - 2} \\sqrt{x - 3}</script></html>"
      ],
      "text/plain": [
       "sqrt(x - 2)*sqrt(x - 3)"
      ]
     },
     "metadata": {},
     "output_type": "display_data"
    }
   ],
   "source": [
    "x=var('x')\n",
    "f(x)=sqrt(x-2)*sqrt(x-3)\n",
    "f(x).show()"
   ]
  },
  {
   "cell_type": "code",
   "execution_count": 9,
   "metadata": {},
   "outputs": [
    {
     "data": {
      "text/html": [
       "<html><script type=\"math/tex; mode=display\">\\newcommand{\\Bold}[1]{\\mathbf{#1}}\\frac{1}{2} \\, \\sqrt{x^{2} - 5 \\, x + 6} x - \\frac{5}{4} \\, \\sqrt{x^{2} - 5 \\, x + 6} - \\frac{1}{8} \\, \\log\\left(2 \\, x + 2 \\, \\sqrt{x^{2} - 5 \\, x + 6} - 5\\right)</script></html>"
      ],
      "text/plain": [
       "1/2*sqrt(x^2 - 5*x + 6)*x - 5/4*sqrt(x^2 - 5*x + 6) - 1/8*log(2*x + 2*sqrt(x^2 - 5*x + 6) - 5)"
      ]
     },
     "metadata": {},
     "output_type": "display_data"
    },
    {
     "data": {
      "text/html": [
       "<html><script type=\"math/tex; mode=display\">\\newcommand{\\Bold}[1]{\\mathbf{#1}}\\frac{9}{2} \\, \\sqrt{5} - \\frac{1}{8} \\, \\log\\left(4 \\, \\sqrt{5} + 9\\right)</script></html>"
      ],
      "text/plain": [
       "9/2*sqrt(5) - 1/8*log(4*sqrt(5) + 9)"
      ]
     },
     "metadata": {},
     "output_type": "display_data"
    }
   ],
   "source": [
    "integrate(f(x),x).show()\n",
    "integrate(f(x),x,3,7).show()"
   ]
  },
  {
   "cell_type": "code",
   "execution_count": 10,
   "metadata": {},
   "outputs": [
    {
     "data": {
      "text/html": [
       "<html><script type=\"math/tex; mode=display\">\\newcommand{\\Bold}[1]{\\mathbf{#1}}\\frac{\\sin\\left(x\\right)}{x}</script></html>"
      ],
      "text/plain": [
       "sin(x)/x"
      ]
     },
     "metadata": {},
     "output_type": "display_data"
    },
    {
     "data": {
      "text/plain": [
       "1"
      ]
     },
     "execution_count": 10,
     "metadata": {},
     "output_type": "execute_result"
    }
   ],
   "source": [
    "g(x)=sin(x)/x\n",
    "g(x).show()\n",
    "lim(g(x),x=0)"
   ]
  },
  {
   "cell_type": "code",
   "execution_count": 5,
   "metadata": {},
   "outputs": [
    {
     "data": {
      "text/plain": [
       "[3 2]\n",
       "[5 1]"
      ]
     },
     "execution_count": 5,
     "metadata": {},
     "output_type": "execute_result"
    }
   ],
   "source": [
    "m=matrix([[3,2],[5,1]])\n",
    "m"
   ]
  },
  {
   "cell_type": "code",
   "execution_count": 6,
   "metadata": {},
   "outputs": [
    {
     "data": {
      "text/plain": [
       "[-1/7  2/7]\n",
       "[ 5/7 -3/7]"
      ]
     },
     "execution_count": 6,
     "metadata": {},
     "output_type": "execute_result"
    }
   ],
   "source": [
    "m^(-1)"
   ]
  }
 ],
 "metadata": {
  "kernelspec": {
   "display_name": "SageMath 9.2",
   "language": "sage",
   "name": "sagemath"
  },
  "language_info": {
   "codemirror_mode": {
    "name": "ipython",
    "version": 3
   },
   "file_extension": ".py",
   "mimetype": "text/x-python",
   "name": "python",
   "nbconvert_exporter": "python",
   "pygments_lexer": "ipython3",
   "version": "3.7.7"
  }
 },
 "nbformat": 4,
 "nbformat_minor": 4
}
