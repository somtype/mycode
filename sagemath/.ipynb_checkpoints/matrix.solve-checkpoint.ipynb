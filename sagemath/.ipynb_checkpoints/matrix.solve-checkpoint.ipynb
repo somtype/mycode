{
 "cells": [
  {
   "cell_type": "code",
   "execution_count": 13,
   "metadata": {},
   "outputs": [
    {
     "data": {
      "text/plain": [
       "[ 5/4]\n",
       "[-1/4]\n",
       "[   0]\n",
       "[   0]"
      ]
     },
     "execution_count": 13,
     "metadata": {},
     "output_type": "execute_result"
    }
   ],
   "source": [
    "A=matrix(QQ,[[1,1,-3,-1],[3,-1,-3,4],[1,5,-9,-8]])\n",
    "b=matrix(QQ,[1,4,0])\n",
    "A.solve_right(b.transpose())"
   ]
  }
 ],
 "metadata": {
  "kernelspec": {
   "display_name": "SageMath 9.2",
   "language": "sage",
   "name": "sagemath"
  },
  "language_info": {
   "codemirror_mode": {
    "name": "ipython",
    "version": 3
   },
   "file_extension": ".py",
   "mimetype": "text/x-python",
   "name": "python",
   "nbconvert_exporter": "python",
   "pygments_lexer": "ipython3",
   "version": "3.7.7"
  }
 },
 "nbformat": 4,
 "nbformat_minor": 4
}
